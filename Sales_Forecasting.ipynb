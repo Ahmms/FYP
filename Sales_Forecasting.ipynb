{
  "nbformat": 4,
  "nbformat_minor": 0,
  "metadata": {
    "colab": {
      "provenance": [],
      "authorship_tag": "ABX9TyNZ0oMPcVvXl65ZPBV6y9us",
      "include_colab_link": true
    },
    "kernelspec": {
      "name": "python3",
      "display_name": "Python 3"
    },
    "language_info": {
      "name": "python"
    }
  },
  "cells": [
    {
      "cell_type": "markdown",
      "metadata": {
        "id": "view-in-github",
        "colab_type": "text"
      },
      "source": [
        "<a href=\"https://colab.research.google.com/github/Ahmms/FYP/blob/main/Sales_Forecasting.ipynb\" target=\"_parent\"><img src=\"https://colab.research.google.com/assets/colab-badge.svg\" alt=\"Open In Colab\"/></a>"
      ]
    },
    {
      "cell_type": "code",
      "execution_count": 14,
      "metadata": {
        "colab": {
          "base_uri": "https://localhost:8080/"
        },
        "id": "73iqBVrPJju4",
        "outputId": "340fa419-3b77-49cb-b036-4a1dcc3b1e0e"
      },
      "outputs": [
        {
          "output_type": "stream",
          "name": "stdout",
          "text": [
            "Drive already mounted at /content/drive/; to attempt to forcibly remount, call drive.mount(\"/content/drive/\", force_remount=True).\n"
          ]
        }
      ],
      "source": [
        "from google.colab import drive\n",
        "drive.mount('/content/drive/')"
      ]
    },
    {
      "cell_type": "code",
      "source": [
        "!pip install pyspark"
      ],
      "metadata": {
        "colab": {
          "base_uri": "https://localhost:8080/"
        },
        "id": "4TaFtMhlJqxc",
        "outputId": "6a8dcb6b-15e7-4936-c267-4816d43869d2"
      },
      "execution_count": 3,
      "outputs": [
        {
          "output_type": "stream",
          "name": "stdout",
          "text": [
            "Looking in indexes: https://pypi.org/simple, https://us-python.pkg.dev/colab-wheels/public/simple/\n",
            "Collecting pyspark\n",
            "  Downloading pyspark-3.3.1.tar.gz (281.4 MB)\n",
            "\u001b[2K     \u001b[90m━━━━━━━━━━━━━━━━━━━━━━━━━━━━━━━━━━━━━━━\u001b[0m \u001b[32m281.4/281.4 MB\u001b[0m \u001b[31m4.3 MB/s\u001b[0m eta \u001b[36m0:00:00\u001b[0m\n",
            "\u001b[?25h  Preparing metadata (setup.py) ... \u001b[?25l\u001b[?25hdone\n",
            "Collecting py4j==0.10.9.5\n",
            "  Downloading py4j-0.10.9.5-py2.py3-none-any.whl (199 kB)\n",
            "\u001b[2K     \u001b[90m━━━━━━━━━━━━━━━━━━━━━━━━━━━━━━━━━━━━━━\u001b[0m \u001b[32m199.7/199.7 KB\u001b[0m \u001b[31m17.0 MB/s\u001b[0m eta \u001b[36m0:00:00\u001b[0m\n",
            "\u001b[?25hBuilding wheels for collected packages: pyspark\n",
            "  Building wheel for pyspark (setup.py) ... \u001b[?25l\u001b[?25hdone\n",
            "  Created wheel for pyspark: filename=pyspark-3.3.1-py2.py3-none-any.whl size=281845512 sha256=04f7a81f6db487ff1828cca33eedc042b4d952312f29c29e68217e7afbef25cb\n",
            "  Stored in directory: /root/.cache/pip/wheels/43/dc/11/ec201cd671da62fa9c5cc77078235e40722170ceba231d7598\n",
            "Successfully built pyspark\n",
            "Installing collected packages: py4j, pyspark\n",
            "Successfully installed py4j-0.10.9.5 pyspark-3.3.1\n"
          ]
        }
      ]
    },
    {
      "cell_type": "code",
      "source": [
        "from pyspark.sql import SparkSession\n",
        "from pyspark.sql.functions import *\n",
        "from pyspark.sql.types import *"
      ],
      "metadata": {
        "id": "IH5m6DNHKB1e"
      },
      "execution_count": 5,
      "outputs": []
    },
    {
      "cell_type": "code",
      "source": [
        "path = \"drive/MyDrive/FYP/Transformation/Dataset/\""
      ],
      "metadata": {
        "id": "AnlKDy8VJm2B"
      },
      "execution_count": 4,
      "outputs": []
    },
    {
      "cell_type": "code",
      "source": [
        "# creating spark session\n",
        "spark = SparkSession.builder.appName(\"Transformation\").getOrCreate()\n",
        "spark"
      ],
      "metadata": {
        "colab": {
          "base_uri": "https://localhost:8080/",
          "height": 219
        },
        "id": "GdlN0TLmKGmg",
        "outputId": "870b27aa-bb0f-4f6c-a04c-d536a8f5dca7"
      },
      "execution_count": 15,
      "outputs": [
        {
          "output_type": "execute_result",
          "data": {
            "text/plain": [
              "<pyspark.sql.session.SparkSession at 0x7fa704c04970>"
            ],
            "text/html": [
              "\n",
              "            <div>\n",
              "                <p><b>SparkSession - in-memory</b></p>\n",
              "                \n",
              "        <div>\n",
              "            <p><b>SparkContext</b></p>\n",
              "\n",
              "            <p><a href=\"http://54354044049d:4040\">Spark UI</a></p>\n",
              "\n",
              "            <dl>\n",
              "              <dt>Version</dt>\n",
              "                <dd><code>v3.3.1</code></dd>\n",
              "              <dt>Master</dt>\n",
              "                <dd><code>local[*]</code></dd>\n",
              "              <dt>AppName</dt>\n",
              "                <dd><code>Transformation</code></dd>\n",
              "            </dl>\n",
              "        </div>\n",
              "        \n",
              "            </div>\n",
              "        "
            ]
          },
          "metadata": {},
          "execution_count": 15
        }
      ]
    },
    {
      "cell_type": "code",
      "source": [
        "df_spark = spark.read.csv(path + 'Sales_Forecast.csv', header = True, inferSchema = True)\n",
        "df_spark.show(5)"
      ],
      "metadata": {
        "colab": {
          "base_uri": "https://localhost:8080/"
        },
        "id": "Z-TcG-pZKQ-8",
        "outputId": "42dbc5a1-b4c9-4ec6-df4d-4631feb99073"
      },
      "execution_count": 16,
      "outputs": [
        {
          "output_type": "stream",
          "name": "stdout",
          "text": [
            "+-------------------+-----+----+-----+\n",
            "|               date|store|item|sales|\n",
            "+-------------------+-----+----+-----+\n",
            "|2013-01-01 00:00:00|    1|   1|   13|\n",
            "|2013-01-02 00:00:00|    1|   1|   11|\n",
            "|2013-01-03 00:00:00|    1|   1|   14|\n",
            "|2013-01-04 00:00:00|    1|   1|   13|\n",
            "|2013-01-05 00:00:00|    1|   1|   10|\n",
            "+-------------------+-----+----+-----+\n",
            "only showing top 5 rows\n",
            "\n"
          ]
        }
      ]
    },
    {
      "cell_type": "code",
      "source": [
        "df_spark.printSchema()"
      ],
      "metadata": {
        "colab": {
          "base_uri": "https://localhost:8080/"
        },
        "id": "8iu2xU-lKsle",
        "outputId": "eea9fe9c-b582-461e-d9ce-b781ffe9a5ea"
      },
      "execution_count": 17,
      "outputs": [
        {
          "output_type": "stream",
          "name": "stdout",
          "text": [
            "root\n",
            " |-- date: timestamp (nullable = true)\n",
            " |-- store: integer (nullable = true)\n",
            " |-- item: integer (nullable = true)\n",
            " |-- sales: integer (nullable = true)\n",
            "\n"
          ]
        }
      ]
    },
    {
      "cell_type": "code",
      "source": [
        "df_spark.columns"
      ],
      "metadata": {
        "colab": {
          "base_uri": "https://localhost:8080/"
        },
        "id": "NcArG8QPLAVk",
        "outputId": "db16e2cd-bb9b-4097-e833-a8c175c3b0c4"
      },
      "execution_count": 18,
      "outputs": [
        {
          "output_type": "execute_result",
          "data": {
            "text/plain": [
              "['date', 'store', 'item', 'sales']"
            ]
          },
          "metadata": {},
          "execution_count": 18
        }
      ]
    },
    {
      "cell_type": "code",
      "source": [
        "df_spark.describe().show()"
      ],
      "metadata": {
        "colab": {
          "base_uri": "https://localhost:8080/"
        },
        "id": "wFLKu2H2LGqH",
        "outputId": "50cb51e9-7ecd-4a03-9674-6b3bb54281e2"
      },
      "execution_count": 19,
      "outputs": [
        {
          "output_type": "stream",
          "name": "stdout",
          "text": [
            "+-------+------------------+------------------+------------------+\n",
            "|summary|             store|              item|             sales|\n",
            "+-------+------------------+------------------+------------------+\n",
            "|  count|            913000|            913000|            913000|\n",
            "|   mean|               5.5|              25.5|52.250286966046005|\n",
            "| stddev|2.8722828962611806|14.430877592663455|28.801143603516596|\n",
            "|    min|                 1|                 1|                 0|\n",
            "|    max|                10|                50|               231|\n",
            "+-------+------------------+------------------+------------------+\n",
            "\n"
          ]
        }
      ]
    },
    {
      "cell_type": "code",
      "source": [
        "# Using Cast to convert the TimestampType to DateType\t\n",
        "df2 = df_spark.withColumn('date', to_timestamp('date').cast('date'))\n",
        "df2.show()"
      ],
      "metadata": {
        "colab": {
          "base_uri": "https://localhost:8080/"
        },
        "id": "z9iZCbtNPzcM",
        "outputId": "2de17d99-903b-49b5-9f8f-7d95a9dc844c"
      },
      "execution_count": 21,
      "outputs": [
        {
          "output_type": "stream",
          "name": "stdout",
          "text": [
            "+----------+-----+----+-----+\n",
            "|      date|store|item|sales|\n",
            "+----------+-----+----+-----+\n",
            "|2013-01-01|    1|   1|   13|\n",
            "|2013-01-02|    1|   1|   11|\n",
            "|2013-01-03|    1|   1|   14|\n",
            "|2013-01-04|    1|   1|   13|\n",
            "|2013-01-05|    1|   1|   10|\n",
            "|2013-01-06|    1|   1|   12|\n",
            "|2013-01-07|    1|   1|   10|\n",
            "|2013-01-08|    1|   1|    9|\n",
            "|2013-01-09|    1|   1|   12|\n",
            "|2013-01-10|    1|   1|    9|\n",
            "|2013-01-11|    1|   1|    9|\n",
            "|2013-01-12|    1|   1|    7|\n",
            "|2013-01-13|    1|   1|   10|\n",
            "|2013-01-14|    1|   1|   12|\n",
            "|2013-01-15|    1|   1|    5|\n",
            "|2013-01-16|    1|   1|    7|\n",
            "|2013-01-17|    1|   1|   16|\n",
            "|2013-01-18|    1|   1|    7|\n",
            "|2013-01-19|    1|   1|   18|\n",
            "|2013-01-20|    1|   1|   15|\n",
            "+----------+-----+----+-----+\n",
            "only showing top 20 rows\n",
            "\n"
          ]
        }
      ]
    },
    {
      "cell_type": "code",
      "source": [
        "# removing duplicate rows\n",
        "df2.distinct().count()"
      ],
      "metadata": {
        "colab": {
          "base_uri": "https://localhost:8080/"
        },
        "id": "b9xW7oGdQHtz",
        "outputId": "d69f44d7-b4fd-40a3-c432-2787adcff16e"
      },
      "execution_count": 22,
      "outputs": [
        {
          "output_type": "execute_result",
          "data": {
            "text/plain": [
              "913000"
            ]
          },
          "metadata": {},
          "execution_count": 22
        }
      ]
    },
    {
      "cell_type": "markdown",
      "source": [
        "**Dealing with null values**"
      ],
      "metadata": {
        "id": "HT_Xy3FkRsri"
      }
    },
    {
      "cell_type": "code",
      "source": [
        " # checking for null values\n",
        " # for this particular dataset, we don't have any null value in any col\n",
        "df2.filter(\"date is Null or store is null or item is null or sales is null\").show()"
      ],
      "metadata": {
        "colab": {
          "base_uri": "https://localhost:8080/"
        },
        "id": "SCisgAT8R6ka",
        "outputId": "91cc79b5-c40e-4b0b-ebe0-3706d218bb42"
      },
      "execution_count": 36,
      "outputs": [
        {
          "output_type": "stream",
          "name": "stdout",
          "text": [
            "+----+-----+----+-----+\n",
            "|date|store|item|sales|\n",
            "+----+-----+----+-----+\n",
            "+----+-----+----+-----+\n",
            "\n"
          ]
        }
      ]
    },
    {
      "cell_type": "code",
      "source": [
        "# we will be dealing with null values in the following two ways\n",
        "# 1) Dropping the record having null values in a col\n",
        "# 2) Filling the null values with mean or median"
      ],
      "metadata": {
        "id": "7MNsKGMnSA6z"
      },
      "execution_count": 38,
      "outputs": []
    },
    {
      "cell_type": "code",
      "source": [
        "# 1) Dropping the record with null values in a col\n",
        "df3 = df2.na.drop()\n",
        "df3.show()"
      ],
      "metadata": {
        "colab": {
          "base_uri": "https://localhost:8080/"
        },
        "id": "PeffuZROSYMq",
        "outputId": "2e230cc0-0fcf-4ca6-cd5b-7538ec8abbc7"
      },
      "execution_count": 30,
      "outputs": [
        {
          "output_type": "stream",
          "name": "stdout",
          "text": [
            "+----------+-----+----+-----+\n",
            "|      date|store|item|sales|\n",
            "+----------+-----+----+-----+\n",
            "|2013-01-01|    1|   1|   13|\n",
            "|2013-01-02|    1|   1|   11|\n",
            "|2013-01-03|    1|   1|   14|\n",
            "|2013-01-04|    1|   1|   13|\n",
            "|2013-01-05|    1|   1|   10|\n",
            "|2013-01-06|    1|   1|   12|\n",
            "|2013-01-07|    1|   1|   10|\n",
            "|2013-01-08|    1|   1|    9|\n",
            "|2013-01-09|    1|   1|   12|\n",
            "|2013-01-10|    1|   1|    9|\n",
            "|2013-01-11|    1|   1|    9|\n",
            "|2013-01-12|    1|   1|    7|\n",
            "|2013-01-13|    1|   1|   10|\n",
            "|2013-01-14|    1|   1|   12|\n",
            "|2013-01-15|    1|   1|    5|\n",
            "|2013-01-16|    1|   1|    7|\n",
            "|2013-01-17|    1|   1|   16|\n",
            "|2013-01-18|    1|   1|    7|\n",
            "|2013-01-19|    1|   1|   18|\n",
            "|2013-01-20|    1|   1|   15|\n",
            "+----------+-----+----+-----+\n",
            "only showing top 20 rows\n",
            "\n"
          ]
        }
      ]
    },
    {
      "cell_type": "code",
      "source": [
        "# 2) Filling the null values with mean or median\n",
        "# We will use Imputer Function for this\n",
        "\n",
        "from pyspark.ml.feature import Imputer\n",
        "imputer = Imputer(\n",
        "    inputCols = ['store', 'item', 'sales'],\n",
        "    outputCols = ['{}_imputed'.format(c) for c in ['store', 'item', 'sales']]\n",
        ").setStrategy('mean') # here we are filling the null values with mean of the values of that col having null value"
      ],
      "metadata": {
        "id": "I2_R0Hi9Sq8W"
      },
      "execution_count": 34,
      "outputs": []
    },
    {
      "cell_type": "code",
      "source": [
        "# adding imputed cols to df_spark\n",
        "imputer.fit(df2).transform(df2).show()"
      ],
      "metadata": {
        "colab": {
          "base_uri": "https://localhost:8080/"
        },
        "id": "9m1JUJI-TN2_",
        "outputId": "79318e5b-c37c-466e-82e3-3fe4ce8ad43f"
      },
      "execution_count": 35,
      "outputs": [
        {
          "output_type": "stream",
          "name": "stdout",
          "text": [
            "+----------+-----+----+-----+-------------+------------+-------------+\n",
            "|      date|store|item|sales|store_imputed|item_imputed|sales_imputed|\n",
            "+----------+-----+----+-----+-------------+------------+-------------+\n",
            "|2013-01-01|    1|   1|   13|            1|           1|           13|\n",
            "|2013-01-02|    1|   1|   11|            1|           1|           11|\n",
            "|2013-01-03|    1|   1|   14|            1|           1|           14|\n",
            "|2013-01-04|    1|   1|   13|            1|           1|           13|\n",
            "|2013-01-05|    1|   1|   10|            1|           1|           10|\n",
            "|2013-01-06|    1|   1|   12|            1|           1|           12|\n",
            "|2013-01-07|    1|   1|   10|            1|           1|           10|\n",
            "|2013-01-08|    1|   1|    9|            1|           1|            9|\n",
            "|2013-01-09|    1|   1|   12|            1|           1|           12|\n",
            "|2013-01-10|    1|   1|    9|            1|           1|            9|\n",
            "|2013-01-11|    1|   1|    9|            1|           1|            9|\n",
            "|2013-01-12|    1|   1|    7|            1|           1|            7|\n",
            "|2013-01-13|    1|   1|   10|            1|           1|           10|\n",
            "|2013-01-14|    1|   1|   12|            1|           1|           12|\n",
            "|2013-01-15|    1|   1|    5|            1|           1|            5|\n",
            "|2013-01-16|    1|   1|    7|            1|           1|            7|\n",
            "|2013-01-17|    1|   1|   16|            1|           1|           16|\n",
            "|2013-01-18|    1|   1|    7|            1|           1|            7|\n",
            "|2013-01-19|    1|   1|   18|            1|           1|           18|\n",
            "|2013-01-20|    1|   1|   15|            1|           1|           15|\n",
            "+----------+-----+----+-----+-------------+------------+-------------+\n",
            "only showing top 20 rows\n",
            "\n"
          ]
        }
      ]
    },
    {
      "cell_type": "code",
      "source": [
        "# Ofcourse there will be many more methods for performing this task like filling the null values with immediate previous or next value,\n",
        "# but for the time being, we are only considering above two methods"
      ],
      "metadata": {
        "id": "jpafDYwwVTqh"
      },
      "execution_count": 39,
      "outputs": []
    },
    {
      "cell_type": "markdown",
      "source": [
        "**Filtering records**"
      ],
      "metadata": {
        "id": "J_wd_1G9T81n"
      }
    },
    {
      "cell_type": "code",
      "source": [
        "# checking the sales within a particular date range\n",
        "df2.filter('year(date)>2013 and year(date)<=2015').select([year('date'), 'sales']).sort('sales').show()\n"
      ],
      "metadata": {
        "colab": {
          "base_uri": "https://localhost:8080/"
        },
        "id": "eq7BGMb4UCAl",
        "outputId": "fc894439-80b6-4adb-80d4-ef8279aac9e9"
      },
      "execution_count": 50,
      "outputs": [
        {
          "output_type": "stream",
          "name": "stdout",
          "text": [
            "+----------+-----+\n",
            "|year(date)|sales|\n",
            "+----------+-----+\n",
            "|      2014|    0|\n",
            "|      2014|    1|\n",
            "|      2015|    1|\n",
            "|      2015|    2|\n",
            "|      2014|    2|\n",
            "|      2015|    2|\n",
            "|      2014|    2|\n",
            "|      2014|    2|\n",
            "|      2014|    2|\n",
            "|      2014|    2|\n",
            "|      2014|    2|\n",
            "|      2015|    2|\n",
            "|      2014|    3|\n",
            "|      2015|    3|\n",
            "|      2014|    3|\n",
            "|      2014|    3|\n",
            "|      2014|    3|\n",
            "|      2014|    3|\n",
            "|      2015|    3|\n",
            "|      2014|    3|\n",
            "+----------+-----+\n",
            "only showing top 20 rows\n",
            "\n"
          ]
        }
      ]
    },
    {
      "cell_type": "markdown",
      "source": [
        "**GroupBy Aggregate functions**"
      ],
      "metadata": {
        "id": "GBcn8vk2ZN41"
      }
    },
    {
      "cell_type": "code",
      "source": [
        "# total sales for each item till date\n",
        "df2.groupBy('item').sum('sales').sort('item').show()"
      ],
      "metadata": {
        "colab": {
          "base_uri": "https://localhost:8080/"
        },
        "id": "pXAYzq27ZRVX",
        "outputId": "df5e8615-3f10-4290-cc19-915ceae83c05"
      },
      "execution_count": 58,
      "outputs": [
        {
          "output_type": "stream",
          "name": "stdout",
          "text": [
            "+----+----------+\n",
            "|item|sum(sales)|\n",
            "+----+----------+\n",
            "|   1|    401384|\n",
            "|   2|   1069564|\n",
            "|   3|    669087|\n",
            "|   4|    401907|\n",
            "|   5|    335230|\n",
            "|   6|   1068281|\n",
            "|   7|   1068777|\n",
            "|   8|   1405108|\n",
            "|   9|    938379|\n",
            "|  10|   1337133|\n",
            "|  11|   1271925|\n",
            "|  12|   1271534|\n",
            "|  13|   1539621|\n",
            "|  14|   1071531|\n",
            "|  15|   1607442|\n",
            "|  16|    468480|\n",
            "|  17|    602486|\n",
            "|  18|   1538876|\n",
            "|  19|    736892|\n",
            "|  20|    867641|\n",
            "+----+----------+\n",
            "only showing top 20 rows\n",
            "\n"
          ]
        }
      ]
    },
    {
      "cell_type": "code",
      "source": [
        "# most sold item till date (descending order)\n",
        "df2.groupBy('item').agg(sum('sales').alias('sales_sum')).orderBy(desc('sales_sum')).show()"
      ],
      "metadata": {
        "colab": {
          "base_uri": "https://localhost:8080/"
        },
        "id": "Ovx7OmGOZ3uE",
        "outputId": "554c7833-fd86-493c-87ee-ac9bed564b8f"
      },
      "execution_count": 57,
      "outputs": [
        {
          "output_type": "stream",
          "name": "stdout",
          "text": [
            "+----+---------+\n",
            "|item|sales_sum|\n",
            "+----+---------+\n",
            "|  15|  1607442|\n",
            "|  28|  1604713|\n",
            "|  13|  1539621|\n",
            "|  18|  1538876|\n",
            "|  25|  1473334|\n",
            "|  45|  1471467|\n",
            "|  38|  1470330|\n",
            "|  22|  1469971|\n",
            "|  36|  1406548|\n",
            "|   8|  1405108|\n",
            "|  10|  1337133|\n",
            "|  11|  1271925|\n",
            "|  12|  1271534|\n",
            "|  29|  1271240|\n",
            "|  33|  1270183|\n",
            "|  24|  1205975|\n",
            "|  50|  1203009|\n",
            "|  35|  1201541|\n",
            "|  14|  1071531|\n",
            "|  31|  1070845|\n",
            "+----+---------+\n",
            "only showing top 20 rows\n",
            "\n"
          ]
        }
      ]
    },
    {
      "cell_type": "code",
      "source": [
        "# Average sales for each item\n",
        "df2.groupBy('item').agg(round(avg('sales'), 2).alias(\"Rounded Salary\")).sort('item').show()"
      ],
      "metadata": {
        "colab": {
          "base_uri": "https://localhost:8080/"
        },
        "id": "dXnKFqzya9ka",
        "outputId": "7f502ac6-d7c2-4b4f-d6e4-89a0e87f34ba"
      },
      "execution_count": 70,
      "outputs": [
        {
          "output_type": "stream",
          "name": "stdout",
          "text": [
            "+----+--------------+\n",
            "|item|Rounded Salary|\n",
            "+----+--------------+\n",
            "|   1|         21.98|\n",
            "|   2|         58.57|\n",
            "|   3|         36.64|\n",
            "|   4|         22.01|\n",
            "|   5|         18.36|\n",
            "|   6|          58.5|\n",
            "|   7|         58.53|\n",
            "|   8|         76.95|\n",
            "|   9|         51.39|\n",
            "|  10|         73.23|\n",
            "|  11|         69.66|\n",
            "|  12|         69.63|\n",
            "|  13|         84.32|\n",
            "|  14|         58.68|\n",
            "|  15|         88.03|\n",
            "|  16|         25.66|\n",
            "|  17|         32.99|\n",
            "|  18|         84.28|\n",
            "|  19|         40.36|\n",
            "|  20|         47.52|\n",
            "+----+--------------+\n",
            "only showing top 20 rows\n",
            "\n"
          ]
        }
      ]
    },
    {
      "cell_type": "code",
      "source": [
        "# checking the sales trend with respect to years\n",
        "# df2.sql(\"SELECT year(date) as year, sum(sales) as sales FROM Sales_Forecast GROUP BY year(date) ORDER BY year;\")\n",
        "df3 = df2.groupBy(year('date').alias('year')).agg(sum('sales').alias('sales')).orderBy(year('date')).show()"
      ],
      "metadata": {
        "colab": {
          "base_uri": "https://localhost:8080/"
        },
        "id": "WxZkWLjCcxNc",
        "outputId": "6ddc3a09-7b0c-42d5-904f-52a8f972c90a"
      },
      "execution_count": 86,
      "outputs": [
        {
          "output_type": "stream",
          "name": "stdout",
          "text": [
            "+----+--------+\n",
            "|year|   sales|\n",
            "+----+--------+\n",
            "|2013| 7941243|\n",
            "|2014| 9135482|\n",
            "|2015| 9536887|\n",
            "|2016|10357160|\n",
            "|2017|10733740|\n",
            "+----+--------+\n",
            "\n"
          ]
        }
      ]
    },
    {
      "cell_type": "code",
      "source": [
        "df3 = df2.groupBy(year('date').alias('year')).agg(sum('sales').alias('sales')).orderBy(year('date')).toPandas()\n",
        "df3.plot.line(x='year', y='sales')  # we can see the increasing trend"
      ],
      "metadata": {
        "colab": {
          "base_uri": "https://localhost:8080/",
          "height": 307
        },
        "id": "dd8BBdylgF7b",
        "outputId": "f756536e-d9ff-4e99-cecd-8826745fe5e6"
      },
      "execution_count": 87,
      "outputs": [
        {
          "output_type": "execute_result",
          "data": {
            "text/plain": [
              "<matplotlib.axes._subplots.AxesSubplot at 0x7fa6fa2e8d00>"
            ]
          },
          "metadata": {},
          "execution_count": 87
        },
        {
          "output_type": "display_data",
          "data": {
            "text/plain": [
              "<Figure size 432x288 with 1 Axes>"
            ],
            "image/png": "[encoded data removed]"
          },
          "metadata": {
            "needs_background": "light"
          }
        }
      ]
    },
    {
      "cell_type": "markdown",
      "source": [
        "**Converting all features into a single feature vector**"
      ],
      "metadata": {
        "id": "fKXo2RKNh_4n"
      }
    },
    {
      "cell_type": "code",
      "source": [
        "from pyspark.ml.linalg import Vectors\n",
        "from pyspark.ml.feature import VectorAssembler"
      ],
      "metadata": {
        "id": "EXw2A0SUiGIX"
      },
      "execution_count": 88,
      "outputs": []
    },
    {
      "cell_type": "code",
      "source": [
        "assembler = VectorAssembler(\n",
        "    inputCols = ['store', 'item'],\n",
        "    outputCol = 'features'\n",
        ")\n",
        "\n",
        "output = assembler.transform(df2)\n",
        "output.show()"
      ],
      "metadata": {
        "colab": {
          "base_uri": "https://localhost:8080/"
        },
        "id": "lgT94lzmjTA8",
        "outputId": "8639694e-f034-4733-e8dd-b927b344e18a"
      },
      "execution_count": 94,
      "outputs": [
        {
          "output_type": "stream",
          "name": "stdout",
          "text": [
            "+----------+-----+----+-----+---------+\n",
            "|      date|store|item|sales| features|\n",
            "+----------+-----+----+-----+---------+\n",
            "|2013-01-01|    1|   1|   13|[1.0,1.0]|\n",
            "|2013-01-02|    1|   1|   11|[1.0,1.0]|\n",
            "|2013-01-03|    1|   1|   14|[1.0,1.0]|\n",
            "|2013-01-04|    1|   1|   13|[1.0,1.0]|\n",
            "|2013-01-05|    1|   1|   10|[1.0,1.0]|\n",
            "|2013-01-06|    1|   1|   12|[1.0,1.0]|\n",
            "|2013-01-07|    1|   1|   10|[1.0,1.0]|\n",
            "|2013-01-08|    1|   1|    9|[1.0,1.0]|\n",
            "|2013-01-09|    1|   1|   12|[1.0,1.0]|\n",
            "|2013-01-10|    1|   1|    9|[1.0,1.0]|\n",
            "|2013-01-11|    1|   1|    9|[1.0,1.0]|\n",
            "|2013-01-12|    1|   1|    7|[1.0,1.0]|\n",
            "|2013-01-13|    1|   1|   10|[1.0,1.0]|\n",
            "|2013-01-14|    1|   1|   12|[1.0,1.0]|\n",
            "|2013-01-15|    1|   1|    5|[1.0,1.0]|\n",
            "|2013-01-16|    1|   1|    7|[1.0,1.0]|\n",
            "|2013-01-17|    1|   1|   16|[1.0,1.0]|\n",
            "|2013-01-18|    1|   1|    7|[1.0,1.0]|\n",
            "|2013-01-19|    1|   1|   18|[1.0,1.0]|\n",
            "|2013-01-20|    1|   1|   15|[1.0,1.0]|\n",
            "+----------+-----+----+-----+---------+\n",
            "only showing top 20 rows\n",
            "\n"
          ]
        }
      ]
    },
    {
      "cell_type": "code",
      "source": [
        "# final dataset that will be used in ml model\n",
        "df_final = output.select('features', 'sales')\n",
        "df_final.show()"
      ],
      "metadata": {
        "colab": {
          "base_uri": "https://localhost:8080/"
        },
        "id": "44g-8t6Mkem6",
        "outputId": "1557645e-09d2-498c-bf33-69e5b6378f95"
      },
      "execution_count": 95,
      "outputs": [
        {
          "output_type": "stream",
          "name": "stdout",
          "text": [
            "+---------+-----+\n",
            "| features|sales|\n",
            "+---------+-----+\n",
            "|[1.0,1.0]|   13|\n",
            "|[1.0,1.0]|   11|\n",
            "|[1.0,1.0]|   14|\n",
            "|[1.0,1.0]|   13|\n",
            "|[1.0,1.0]|   10|\n",
            "|[1.0,1.0]|   12|\n",
            "|[1.0,1.0]|   10|\n",
            "|[1.0,1.0]|    9|\n",
            "|[1.0,1.0]|   12|\n",
            "|[1.0,1.0]|    9|\n",
            "|[1.0,1.0]|    9|\n",
            "|[1.0,1.0]|    7|\n",
            "|[1.0,1.0]|   10|\n",
            "|[1.0,1.0]|   12|\n",
            "|[1.0,1.0]|    5|\n",
            "|[1.0,1.0]|    7|\n",
            "|[1.0,1.0]|   16|\n",
            "|[1.0,1.0]|    7|\n",
            "|[1.0,1.0]|   18|\n",
            "|[1.0,1.0]|   15|\n",
            "+---------+-----+\n",
            "only showing top 20 rows\n",
            "\n"
          ]
        }
      ]
    }
  ]
}